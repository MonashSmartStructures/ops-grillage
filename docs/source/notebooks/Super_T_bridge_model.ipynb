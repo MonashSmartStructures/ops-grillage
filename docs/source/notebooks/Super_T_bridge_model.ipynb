{
 "cells": [
  {
   "cell_type": "markdown",
   "id": "8879c086-8c91-47d2-9fec-826e3ef3fe05",
   "metadata": {},
   "source": [
    "# Super T bridge model\n",
    "This example reproduces the grillage model of a super-T bridge from Caprani et al. (2017). In that study, the commercial software LUSAS is used to create the grillage model. Figure 1 shows the Super-T deck cross-section"
   ]
  },
  {
   "cell_type": "code",
   "execution_count": 6,
   "id": "6b177ec2-96f3-4e73-b296-a44e064186b9",
   "metadata": {
    "tags": []
   },
   "outputs": [],
   "source": [
    "import numpy as np\n",
    "import ospgrillage as og\n",
    "from IPython import display  # to display images in this notebook"
   ]
  },
  {
   "cell_type": "code",
   "execution_count": null,
   "id": "92c34746-b6ab-4213-9470-66743d2b4730",
   "metadata": {},
   "outputs": [],
   "source": [
    "display.Image(\"../../_images/example_cross_section.PNG\",width=800)"
   ]
  },
  {
   "cell_type": "markdown",
   "id": "1dad97cb-ca20-4fab-ab31-d8d8eb800a08",
   "metadata": {},
   "source": [
    "## Creating the grillage\n",
    "For this example, the five super-T beams and two edge beams (parapets) of Figure 1 are being modelled similar to Caprani et al. (2017) - with the number of longitudinal and transverse grid lines being 7 and 11 respectively."
   ]
  },
  {
   "cell_type": "code",
   "execution_count": 7,
   "id": "4025a512-de69-44a1-a8a5-dabb61b3a859",
   "metadata": {
    "tags": []
   },
   "outputs": [],
   "source": [
    "# Adopted units: N and m\n",
    "kilo = 1e3\n",
    "milli = 1e-3\n",
    "N = 1\n",
    "m = 1\n",
    "mm = milli * m\n",
    "m2 = m ** 2\n",
    "m3 = m ** 3\n",
    "m4 = m ** 4\n",
    "kN = kilo * N\n",
    "MPa = N / ((mm) ** 2)\n",
    "GPa = kilo * MPa\n",
    "\n",
    "# parameters of bridge grillage\n",
    "L = 33.5 * m  # span\n",
    "w = 11.565 * m  # width\n",
    "n_l = 7  # number of longitudinal members\n",
    "n_t = 11  # number of transverse members\n",
    "edge_dist = 1.05 * m  # distance between edge beam and first exterior beam\n",
    "angle = 0  # skew angle"
   ]
  },
  {
   "cell_type": "markdown",
   "id": "b4623f4b-7c38-4380-832d-f6a91d0c2519",
   "metadata": {},
   "source": [
    "Create `Material` object of grillage members. Here the same material is defined for all grillage members."
   ]
  },
  {
   "cell_type": "code",
   "execution_count": null,
   "id": "404c1c24-8bac-4b0d-b2a8-3b76ad5c4139",
   "metadata": {
    "tags": []
   },
   "outputs": [],
   "source": [
    "# define material\n",
    "concrete = og.create_material(material=\"concrete\", code=\"AS5100-2017\", grade=\"65MPa\")"
   ]
  },
  {
   "cell_type": "markdown",
   "id": "a622512a-de96-4c74-948b-bcf9824d5b25",
   "metadata": {},
   "source": [
    "Create `Section` object for each grillage elements. The values of parameters are taken from the LUSAS model used in Colin et al (2017). "
   ]
  },
  {
   "cell_type": "code",
   "execution_count": null,
   "id": "2a57de5e-3f0e-4d1e-93f5-40d0c0b4391d",
   "metadata": {
    "tags": []
   },
   "outputs": [],
   "source": [
    "edge_longitudinal_section = og.create_section(\n",
    "    A=0.934 * m2,\n",
    "    J=0.1857 * m3,\n",
    "    Iz=0.3478 * m4,\n",
    "    Iy=0.213602 * m4,\n",
    "    Az=0.444795 * m2,\n",
    "    Ay=0.258704 * m2,\n",
    ")\n",
    "\n",
    "longitudinal_section = og.create_section(\n",
    "    A=1.025 * m2,\n",
    "    J=0.1878 * m3,\n",
    "    Iz=0.3694 * m4,\n",
    "    Iy=0.113887e-3 * m4,\n",
    "    Az=0.0371929 * m2,\n",
    "    Ay=0.0371902 * m2,\n",
    ")\n",
    "\n",
    "transverse_section = og.create_section(\n",
    "    A=0.504 * m2,\n",
    "    J=5.22303e-3 * m3,\n",
    "    Iy=0.32928 * m4,\n",
    "    Iz=1.3608e-3 * m4,\n",
    "    Ay=0.42 * m2,\n",
    "    Az=0.42 * m2,\n",
    ")\n",
    "\n",
    "end_transverse_section = og.create_section(\n",
    "    A=0.504 / 2 * m2,\n",
    "    J=2.5012e-3 * m3,\n",
    "    Iy=0.04116 * m4,\n",
    "    Iz=0.6804e-3 * m4,\n",
    "    Ay=0.21 * m2,\n",
    "    Az=0.21 * m2,\n",
    ")"
   ]
  },
  {
   "cell_type": "markdown",
   "id": "61a33aa1-edc7-4b29-903f-503f01009054",
   "metadata": {},
   "source": [
    "Then, create `GrillageMember` objects with the prescribed `Section` and `Material` objects as inputs."
   ]
  },
  {
   "cell_type": "code",
   "execution_count": null,
   "id": "8a26cbf0-d577-43cc-b545-ae504f302644",
   "metadata": {
    "tags": []
   },
   "outputs": [],
   "source": [
    "# define grillage members\n",
    "longitudinal_beam = og.create_member(section=longitudinal_section, material=concrete)\n",
    "edge_longitudinal_beam = og.create_member(\n",
    "    section=edge_longitudinal_section, material=concrete\n",
    ")\n",
    "transverse_slab = og.create_member(section=transverse_section, material=concrete)\n",
    "end_transverse_slab = og.create_member(\n",
    "    section=end_transverse_section, material=concrete\n",
    ")"
   ]
  },
  {
   "cell_type": "code",
   "execution_count": null,
   "id": "9df9f02e-548f-464a-90d8-d9699ceb7543",
   "metadata": {
    "tags": []
   },
   "outputs": [],
   "source": [
    "# create grillage\n",
    "simple_grid = og.create_grillage(\n",
    "    bridge_name=\"Super-T 33_5m\",\n",
    "    long_dim=L,\n",
    "    width=w,\n",
    "    skew=angle,\n",
    "    num_long_grid=n_l,\n",
    "    num_trans_grid=n_t,\n",
    "    edge_beam_dist=edge_dist,\n",
    ")"
   ]
  },
  {
   "cell_type": "code",
   "execution_count": 8,
   "id": "3fe1c7e0-8580-4b5a-b387-a7ffb94ef01e",
   "metadata": {},
   "outputs": [
    {
     "ename": "NameError",
     "evalue": "name 'simple_grid' is not defined",
     "output_type": "error",
     "traceback": [
      "\u001b[1;31m---------------------------------------------------------------------------\u001b[0m",
      "\u001b[1;31mNameError\u001b[0m                                 Traceback (most recent call last)",
      "\u001b[1;32m~\\AppData\\Local\\Temp/ipykernel_34172/3409427006.py\u001b[0m in \u001b[0;36m<module>\u001b[1;34m\u001b[0m\n\u001b[0;32m      1\u001b[0m \u001b[1;31m# assign grillage member to element groups of grillage model\u001b[0m\u001b[1;33m\u001b[0m\u001b[1;33m\u001b[0m\u001b[1;33m\u001b[0m\u001b[0m\n\u001b[1;32m----> 2\u001b[1;33m \u001b[0msimple_grid\u001b[0m\u001b[1;33m.\u001b[0m\u001b[0mset_member\u001b[0m\u001b[1;33m(\u001b[0m\u001b[0mlongitudinal_beam\u001b[0m\u001b[1;33m,\u001b[0m \u001b[0mmember\u001b[0m\u001b[1;33m=\u001b[0m\u001b[1;34m\"interior_main_beam\"\u001b[0m\u001b[1;33m)\u001b[0m\u001b[1;33m\u001b[0m\u001b[1;33m\u001b[0m\u001b[0m\n\u001b[0m\u001b[0;32m      3\u001b[0m \u001b[0msimple_grid\u001b[0m\u001b[1;33m.\u001b[0m\u001b[0mset_member\u001b[0m\u001b[1;33m(\u001b[0m\u001b[0mlongitudinal_beam\u001b[0m\u001b[1;33m,\u001b[0m \u001b[0mmember\u001b[0m\u001b[1;33m=\u001b[0m\u001b[1;34m\"exterior_main_beam_1\"\u001b[0m\u001b[1;33m)\u001b[0m\u001b[1;33m\u001b[0m\u001b[1;33m\u001b[0m\u001b[0m\n\u001b[0;32m      4\u001b[0m \u001b[0msimple_grid\u001b[0m\u001b[1;33m.\u001b[0m\u001b[0mset_member\u001b[0m\u001b[1;33m(\u001b[0m\u001b[0mlongitudinal_beam\u001b[0m\u001b[1;33m,\u001b[0m \u001b[0mmember\u001b[0m\u001b[1;33m=\u001b[0m\u001b[1;34m\"exterior_main_beam_2\"\u001b[0m\u001b[1;33m)\u001b[0m\u001b[1;33m\u001b[0m\u001b[1;33m\u001b[0m\u001b[0m\n\u001b[0;32m      5\u001b[0m \u001b[0msimple_grid\u001b[0m\u001b[1;33m.\u001b[0m\u001b[0mset_member\u001b[0m\u001b[1;33m(\u001b[0m\u001b[0medge_longitudinal_beam\u001b[0m\u001b[1;33m,\u001b[0m \u001b[0mmember\u001b[0m\u001b[1;33m=\u001b[0m\u001b[1;34m\"edge_beam\"\u001b[0m\u001b[1;33m)\u001b[0m\u001b[1;33m\u001b[0m\u001b[1;33m\u001b[0m\u001b[0m\n",
      "\u001b[1;31mNameError\u001b[0m: name 'simple_grid' is not defined"
     ]
    }
   ],
   "source": [
    "# assign grillage member to element groups of grillage model\n",
    "simple_grid.set_member(longitudinal_beam, member=\"interior_main_beam\")\n",
    "simple_grid.set_member(longitudinal_beam, member=\"exterior_main_beam_1\")\n",
    "simple_grid.set_member(longitudinal_beam, member=\"exterior_main_beam_2\")\n",
    "simple_grid.set_member(edge_longitudinal_beam, member=\"edge_beam\")\n",
    "simple_grid.set_member(transverse_slab, member=\"transverse_slab\")\n",
    "simple_grid.set_member(end_transverse_slab, member=\"start_edge\")\n",
    "simple_grid.set_member(end_transverse_slab, member=\"end_edge\")\n",
    "\n",
    "# create the model in OpenSees\n",
    "simple_grid.create_osp_model(\n",
    "    pyfile=False\n",
    ")  # pyfile will not (False) be generated for further analysis (should be create_osp?)\n",
    "og.opsplt.plot_model(\"nodes\")  # plotting using Get_rendering\n",
    "og.opsv.plot_model(az_el=(-90, 0))  # plotting using ops_vis\n",
    "og.plt.show()"
   ]
  },
  {
   "cell_type": "markdown",
   "id": "0f6ac26f-48dd-4797-82ca-bd991e5469e0",
   "metadata": {},
   "source": [
    "Figure 2 shows the model plotted in OpenSees model space."
   ]
  },
  {
   "cell_type": "code",
   "execution_count": 9,
   "id": "b8a490a6-6f6c-404d-867d-206b4a243ff2",
   "metadata": {},
   "outputs": [
    {
     "ename": "FileNotFoundError",
     "evalue": "No such file or directory: './images/intro_ex_1.png'",
     "output_type": "error",
     "traceback": [
      "\u001b[1;31m---------------------------------------------------------------------------\u001b[0m",
      "\u001b[1;31mTypeError\u001b[0m                                 Traceback (most recent call last)",
      "\u001b[1;32mc:\\users\\nicni\\pycharmprojects\\ospg\\lib\\site-packages\\IPython\\core\\display.py\u001b[0m in \u001b[0;36m_data_and_metadata\u001b[1;34m(self, always_both)\u001b[0m\n\u001b[0;32m   1299\u001b[0m         \u001b[1;32mtry\u001b[0m\u001b[1;33m:\u001b[0m\u001b[1;33m\u001b[0m\u001b[1;33m\u001b[0m\u001b[0m\n\u001b[1;32m-> 1300\u001b[1;33m             \u001b[0mb64_data\u001b[0m \u001b[1;33m=\u001b[0m \u001b[0mb2a_base64\u001b[0m\u001b[1;33m(\u001b[0m\u001b[0mself\u001b[0m\u001b[1;33m.\u001b[0m\u001b[0mdata\u001b[0m\u001b[1;33m)\u001b[0m\u001b[1;33m.\u001b[0m\u001b[0mdecode\u001b[0m\u001b[1;33m(\u001b[0m\u001b[1;34m'ascii'\u001b[0m\u001b[1;33m)\u001b[0m\u001b[1;33m\u001b[0m\u001b[1;33m\u001b[0m\u001b[0m\n\u001b[0m\u001b[0;32m   1301\u001b[0m         \u001b[1;32mexcept\u001b[0m \u001b[0mTypeError\u001b[0m\u001b[1;33m:\u001b[0m\u001b[1;33m\u001b[0m\u001b[1;33m\u001b[0m\u001b[0m\n",
      "\u001b[1;31mTypeError\u001b[0m: a bytes-like object is required, not 'str'",
      "\nDuring handling of the above exception, another exception occurred:\n",
      "\u001b[1;31mFileNotFoundError\u001b[0m                         Traceback (most recent call last)",
      "\u001b[1;32mc:\\users\\nicni\\pycharmprojects\\ospg\\lib\\site-packages\\IPython\\core\\formatters.py\u001b[0m in \u001b[0;36m__call__\u001b[1;34m(self, obj, include, exclude)\u001b[0m\n\u001b[0;32m    968\u001b[0m \u001b[1;33m\u001b[0m\u001b[0m\n\u001b[0;32m    969\u001b[0m             \u001b[1;32mif\u001b[0m \u001b[0mmethod\u001b[0m \u001b[1;32mis\u001b[0m \u001b[1;32mnot\u001b[0m \u001b[1;32mNone\u001b[0m\u001b[1;33m:\u001b[0m\u001b[1;33m\u001b[0m\u001b[1;33m\u001b[0m\u001b[0m\n\u001b[1;32m--> 970\u001b[1;33m                 \u001b[1;32mreturn\u001b[0m \u001b[0mmethod\u001b[0m\u001b[1;33m(\u001b[0m\u001b[0minclude\u001b[0m\u001b[1;33m=\u001b[0m\u001b[0minclude\u001b[0m\u001b[1;33m,\u001b[0m \u001b[0mexclude\u001b[0m\u001b[1;33m=\u001b[0m\u001b[0mexclude\u001b[0m\u001b[1;33m)\u001b[0m\u001b[1;33m\u001b[0m\u001b[1;33m\u001b[0m\u001b[0m\n\u001b[0m\u001b[0;32m    971\u001b[0m             \u001b[1;32mreturn\u001b[0m \u001b[1;32mNone\u001b[0m\u001b[1;33m\u001b[0m\u001b[1;33m\u001b[0m\u001b[0m\n\u001b[0;32m    972\u001b[0m         \u001b[1;32melse\u001b[0m\u001b[1;33m:\u001b[0m\u001b[1;33m\u001b[0m\u001b[1;33m\u001b[0m\u001b[0m\n",
      "\u001b[1;32mc:\\users\\nicni\\pycharmprojects\\ospg\\lib\\site-packages\\IPython\\core\\display.py\u001b[0m in \u001b[0;36m_repr_mimebundle_\u001b[1;34m(self, include, exclude)\u001b[0m\n\u001b[0;32m   1288\u001b[0m         \u001b[1;32mif\u001b[0m \u001b[0mself\u001b[0m\u001b[1;33m.\u001b[0m\u001b[0membed\u001b[0m\u001b[1;33m:\u001b[0m\u001b[1;33m\u001b[0m\u001b[1;33m\u001b[0m\u001b[0m\n\u001b[0;32m   1289\u001b[0m             \u001b[0mmimetype\u001b[0m \u001b[1;33m=\u001b[0m \u001b[0mself\u001b[0m\u001b[1;33m.\u001b[0m\u001b[0m_mimetype\u001b[0m\u001b[1;33m\u001b[0m\u001b[1;33m\u001b[0m\u001b[0m\n\u001b[1;32m-> 1290\u001b[1;33m             \u001b[0mdata\u001b[0m\u001b[1;33m,\u001b[0m \u001b[0mmetadata\u001b[0m \u001b[1;33m=\u001b[0m \u001b[0mself\u001b[0m\u001b[1;33m.\u001b[0m\u001b[0m_data_and_metadata\u001b[0m\u001b[1;33m(\u001b[0m\u001b[0malways_both\u001b[0m\u001b[1;33m=\u001b[0m\u001b[1;32mTrue\u001b[0m\u001b[1;33m)\u001b[0m\u001b[1;33m\u001b[0m\u001b[1;33m\u001b[0m\u001b[0m\n\u001b[0m\u001b[0;32m   1291\u001b[0m             \u001b[1;32mif\u001b[0m \u001b[0mmetadata\u001b[0m\u001b[1;33m:\u001b[0m\u001b[1;33m\u001b[0m\u001b[1;33m\u001b[0m\u001b[0m\n\u001b[0;32m   1292\u001b[0m                 \u001b[0mmetadata\u001b[0m \u001b[1;33m=\u001b[0m \u001b[1;33m{\u001b[0m\u001b[0mmimetype\u001b[0m\u001b[1;33m:\u001b[0m \u001b[0mmetadata\u001b[0m\u001b[1;33m}\u001b[0m\u001b[1;33m\u001b[0m\u001b[1;33m\u001b[0m\u001b[0m\n",
      "\u001b[1;32mc:\\users\\nicni\\pycharmprojects\\ospg\\lib\\site-packages\\IPython\\core\\display.py\u001b[0m in \u001b[0;36m_data_and_metadata\u001b[1;34m(self, always_both)\u001b[0m\n\u001b[0;32m   1300\u001b[0m             \u001b[0mb64_data\u001b[0m \u001b[1;33m=\u001b[0m \u001b[0mb2a_base64\u001b[0m\u001b[1;33m(\u001b[0m\u001b[0mself\u001b[0m\u001b[1;33m.\u001b[0m\u001b[0mdata\u001b[0m\u001b[1;33m)\u001b[0m\u001b[1;33m.\u001b[0m\u001b[0mdecode\u001b[0m\u001b[1;33m(\u001b[0m\u001b[1;34m'ascii'\u001b[0m\u001b[1;33m)\u001b[0m\u001b[1;33m\u001b[0m\u001b[1;33m\u001b[0m\u001b[0m\n\u001b[0;32m   1301\u001b[0m         \u001b[1;32mexcept\u001b[0m \u001b[0mTypeError\u001b[0m\u001b[1;33m:\u001b[0m\u001b[1;33m\u001b[0m\u001b[1;33m\u001b[0m\u001b[0m\n\u001b[1;32m-> 1302\u001b[1;33m             raise FileNotFoundError(\n\u001b[0m\u001b[0;32m   1303\u001b[0m                 \"No such file or directory: '%s'\" % (self.data))\n\u001b[0;32m   1304\u001b[0m         \u001b[0mmd\u001b[0m \u001b[1;33m=\u001b[0m \u001b[1;33m{\u001b[0m\u001b[1;33m}\u001b[0m\u001b[1;33m\u001b[0m\u001b[1;33m\u001b[0m\u001b[0m\n",
      "\u001b[1;31mFileNotFoundError\u001b[0m: No such file or directory: './images/intro_ex_1.png'"
     ]
    },
    {
     "ename": "FileNotFoundError",
     "evalue": "No such file or directory: './images/intro_ex_1.png'",
     "output_type": "error",
     "traceback": [
      "\u001b[1;31m---------------------------------------------------------------------------\u001b[0m",
      "\u001b[1;31mTypeError\u001b[0m                                 Traceback (most recent call last)",
      "\u001b[1;32mc:\\users\\nicni\\pycharmprojects\\ospg\\lib\\site-packages\\IPython\\core\\display.py\u001b[0m in \u001b[0;36m_data_and_metadata\u001b[1;34m(self, always_both)\u001b[0m\n\u001b[0;32m   1299\u001b[0m         \u001b[1;32mtry\u001b[0m\u001b[1;33m:\u001b[0m\u001b[1;33m\u001b[0m\u001b[1;33m\u001b[0m\u001b[0m\n\u001b[1;32m-> 1300\u001b[1;33m             \u001b[0mb64_data\u001b[0m \u001b[1;33m=\u001b[0m \u001b[0mb2a_base64\u001b[0m\u001b[1;33m(\u001b[0m\u001b[0mself\u001b[0m\u001b[1;33m.\u001b[0m\u001b[0mdata\u001b[0m\u001b[1;33m)\u001b[0m\u001b[1;33m.\u001b[0m\u001b[0mdecode\u001b[0m\u001b[1;33m(\u001b[0m\u001b[1;34m'ascii'\u001b[0m\u001b[1;33m)\u001b[0m\u001b[1;33m\u001b[0m\u001b[1;33m\u001b[0m\u001b[0m\n\u001b[0m\u001b[0;32m   1301\u001b[0m         \u001b[1;32mexcept\u001b[0m \u001b[0mTypeError\u001b[0m\u001b[1;33m:\u001b[0m\u001b[1;33m\u001b[0m\u001b[1;33m\u001b[0m\u001b[0m\n",
      "\u001b[1;31mTypeError\u001b[0m: a bytes-like object is required, not 'str'",
      "\nDuring handling of the above exception, another exception occurred:\n",
      "\u001b[1;31mFileNotFoundError\u001b[0m                         Traceback (most recent call last)",
      "\u001b[1;32mc:\\users\\nicni\\pycharmprojects\\ospg\\lib\\site-packages\\IPython\\core\\formatters.py\u001b[0m in \u001b[0;36m__call__\u001b[1;34m(self, obj)\u001b[0m\n\u001b[0;32m    343\u001b[0m             \u001b[0mmethod\u001b[0m \u001b[1;33m=\u001b[0m \u001b[0mget_real_method\u001b[0m\u001b[1;33m(\u001b[0m\u001b[0mobj\u001b[0m\u001b[1;33m,\u001b[0m \u001b[0mself\u001b[0m\u001b[1;33m.\u001b[0m\u001b[0mprint_method\u001b[0m\u001b[1;33m)\u001b[0m\u001b[1;33m\u001b[0m\u001b[1;33m\u001b[0m\u001b[0m\n\u001b[0;32m    344\u001b[0m             \u001b[1;32mif\u001b[0m \u001b[0mmethod\u001b[0m \u001b[1;32mis\u001b[0m \u001b[1;32mnot\u001b[0m \u001b[1;32mNone\u001b[0m\u001b[1;33m:\u001b[0m\u001b[1;33m\u001b[0m\u001b[1;33m\u001b[0m\u001b[0m\n\u001b[1;32m--> 345\u001b[1;33m                 \u001b[1;32mreturn\u001b[0m \u001b[0mmethod\u001b[0m\u001b[1;33m(\u001b[0m\u001b[1;33m)\u001b[0m\u001b[1;33m\u001b[0m\u001b[1;33m\u001b[0m\u001b[0m\n\u001b[0m\u001b[0;32m    346\u001b[0m             \u001b[1;32mreturn\u001b[0m \u001b[1;32mNone\u001b[0m\u001b[1;33m\u001b[0m\u001b[1;33m\u001b[0m\u001b[0m\n\u001b[0;32m    347\u001b[0m         \u001b[1;32melse\u001b[0m\u001b[1;33m:\u001b[0m\u001b[1;33m\u001b[0m\u001b[1;33m\u001b[0m\u001b[0m\n",
      "\u001b[1;32mc:\\users\\nicni\\pycharmprojects\\ospg\\lib\\site-packages\\IPython\\core\\display.py\u001b[0m in \u001b[0;36m_repr_png_\u001b[1;34m(self)\u001b[0m\n\u001b[0;32m   1318\u001b[0m     \u001b[1;32mdef\u001b[0m \u001b[0m_repr_png_\u001b[0m\u001b[1;33m(\u001b[0m\u001b[0mself\u001b[0m\u001b[1;33m)\u001b[0m\u001b[1;33m:\u001b[0m\u001b[1;33m\u001b[0m\u001b[1;33m\u001b[0m\u001b[0m\n\u001b[0;32m   1319\u001b[0m         \u001b[1;32mif\u001b[0m \u001b[0mself\u001b[0m\u001b[1;33m.\u001b[0m\u001b[0membed\u001b[0m \u001b[1;32mand\u001b[0m \u001b[0mself\u001b[0m\u001b[1;33m.\u001b[0m\u001b[0mformat\u001b[0m \u001b[1;33m==\u001b[0m \u001b[0mself\u001b[0m\u001b[1;33m.\u001b[0m\u001b[0m_FMT_PNG\u001b[0m\u001b[1;33m:\u001b[0m\u001b[1;33m\u001b[0m\u001b[1;33m\u001b[0m\u001b[0m\n\u001b[1;32m-> 1320\u001b[1;33m             \u001b[1;32mreturn\u001b[0m \u001b[0mself\u001b[0m\u001b[1;33m.\u001b[0m\u001b[0m_data_and_metadata\u001b[0m\u001b[1;33m(\u001b[0m\u001b[1;33m)\u001b[0m\u001b[1;33m\u001b[0m\u001b[1;33m\u001b[0m\u001b[0m\n\u001b[0m\u001b[0;32m   1321\u001b[0m \u001b[1;33m\u001b[0m\u001b[0m\n\u001b[0;32m   1322\u001b[0m     \u001b[1;32mdef\u001b[0m \u001b[0m_repr_jpeg_\u001b[0m\u001b[1;33m(\u001b[0m\u001b[0mself\u001b[0m\u001b[1;33m)\u001b[0m\u001b[1;33m:\u001b[0m\u001b[1;33m\u001b[0m\u001b[1;33m\u001b[0m\u001b[0m\n",
      "\u001b[1;32mc:\\users\\nicni\\pycharmprojects\\ospg\\lib\\site-packages\\IPython\\core\\display.py\u001b[0m in \u001b[0;36m_data_and_metadata\u001b[1;34m(self, always_both)\u001b[0m\n\u001b[0;32m   1300\u001b[0m             \u001b[0mb64_data\u001b[0m \u001b[1;33m=\u001b[0m \u001b[0mb2a_base64\u001b[0m\u001b[1;33m(\u001b[0m\u001b[0mself\u001b[0m\u001b[1;33m.\u001b[0m\u001b[0mdata\u001b[0m\u001b[1;33m)\u001b[0m\u001b[1;33m.\u001b[0m\u001b[0mdecode\u001b[0m\u001b[1;33m(\u001b[0m\u001b[1;34m'ascii'\u001b[0m\u001b[1;33m)\u001b[0m\u001b[1;33m\u001b[0m\u001b[1;33m\u001b[0m\u001b[0m\n\u001b[0;32m   1301\u001b[0m         \u001b[1;32mexcept\u001b[0m \u001b[0mTypeError\u001b[0m\u001b[1;33m:\u001b[0m\u001b[1;33m\u001b[0m\u001b[1;33m\u001b[0m\u001b[0m\n\u001b[1;32m-> 1302\u001b[1;33m             raise FileNotFoundError(\n\u001b[0m\u001b[0;32m   1303\u001b[0m                 \"No such file or directory: '%s'\" % (self.data))\n\u001b[0;32m   1304\u001b[0m         \u001b[0mmd\u001b[0m \u001b[1;33m=\u001b[0m \u001b[1;33m{\u001b[0m\u001b[1;33m}\u001b[0m\u001b[1;33m\u001b[0m\u001b[1;33m\u001b[0m\u001b[0m\n",
      "\u001b[1;31mFileNotFoundError\u001b[0m: No such file or directory: './images/intro_ex_1.png'"
     ]
    },
    {
     "data": {
      "text/plain": [
       "<IPython.core.display.Image object>"
      ]
     },
     "execution_count": 9,
     "metadata": {},
     "output_type": "execute_result"
    }
   ],
   "source": [
    "display.Image(\"../../_images/33m_bridge.PNG\",width=800)"
   ]
  },
  {
   "cell_type": "markdown",
   "id": "433b51c4-67f6-4051-b16f-36a854980304",
   "metadata": {},
   "source": [
    "## Adding load cases to model\n",
    "Here we create and add load cases to the simple_grid model for analysis.\n",
    "\n",
    "The first load case is a simple line load running along mid span width, to check that the model is behaving appropriately."
   ]
  },
  {
   "cell_type": "code",
   "execution_count": 10,
   "id": "478448e8-3ee1-4ad0-8057-0bf8aa536c21",
   "metadata": {},
   "outputs": [
    {
     "ename": "NameError",
     "evalue": "name 'L' is not defined",
     "output_type": "error",
     "traceback": [
      "\u001b[1;31m---------------------------------------------------------------------------\u001b[0m",
      "\u001b[1;31mNameError\u001b[0m                                 Traceback (most recent call last)",
      "\u001b[1;32m~\\AppData\\Local\\Temp/ipykernel_34172/3789025788.py\u001b[0m in \u001b[0;36m<module>\u001b[1;34m\u001b[0m\n\u001b[0;32m     11\u001b[0m \u001b[1;31m# Line load running along midspan width (P is kN/m)\u001b[0m\u001b[1;33m\u001b[0m\u001b[1;33m\u001b[0m\u001b[1;33m\u001b[0m\u001b[0m\n\u001b[0;32m     12\u001b[0m \u001b[1;31m# Create vertical load points in global coordinate system\u001b[0m\u001b[1;33m\u001b[0m\u001b[1;33m\u001b[0m\u001b[1;33m\u001b[0m\u001b[0m\n\u001b[1;32m---> 13\u001b[1;33m \u001b[0mline_point_1\u001b[0m \u001b[1;33m=\u001b[0m \u001b[0mog\u001b[0m\u001b[1;33m.\u001b[0m\u001b[0mcreate_load_vertex\u001b[0m\u001b[1;33m(\u001b[0m\u001b[0mx\u001b[0m\u001b[1;33m=\u001b[0m\u001b[0mL\u001b[0m \u001b[1;33m/\u001b[0m \u001b[1;36m2\u001b[0m\u001b[1;33m,\u001b[0m \u001b[0mz\u001b[0m\u001b[1;33m=\u001b[0m\u001b[1;36m0\u001b[0m\u001b[1;33m,\u001b[0m \u001b[0mp\u001b[0m\u001b[1;33m=\u001b[0m\u001b[0mP\u001b[0m\u001b[1;33m)\u001b[0m\u001b[1;33m\u001b[0m\u001b[1;33m\u001b[0m\u001b[0m\n\u001b[0m\u001b[0;32m     14\u001b[0m \u001b[0mline_point_2\u001b[0m \u001b[1;33m=\u001b[0m \u001b[0mog\u001b[0m\u001b[1;33m.\u001b[0m\u001b[0mcreate_load_vertex\u001b[0m\u001b[1;33m(\u001b[0m\u001b[0mx\u001b[0m\u001b[1;33m=\u001b[0m\u001b[0mL\u001b[0m \u001b[1;33m/\u001b[0m \u001b[1;36m2\u001b[0m\u001b[1;33m,\u001b[0m \u001b[0mz\u001b[0m\u001b[1;33m=\u001b[0m\u001b[0mw\u001b[0m\u001b[1;33m,\u001b[0m \u001b[0mp\u001b[0m\u001b[1;33m=\u001b[0m\u001b[0mP\u001b[0m\u001b[1;33m)\u001b[0m\u001b[1;33m\u001b[0m\u001b[1;33m\u001b[0m\u001b[0m\n\u001b[0;32m     15\u001b[0m test_line_load = og.create_load(\n",
      "\u001b[1;31mNameError\u001b[0m: name 'L' is not defined"
     ]
    }
   ],
   "source": [
    "# reference unit load for various load types\n",
    "P = 1 * kN\n",
    "# name strings of load cases to be created\n",
    "static_cases_names = [\n",
    "    \"Line Test Case\",\n",
    "    \"Points Test Case (Global)\",\n",
    "    \"Points Test Case (Local in Point)\",\n",
    "    \"Patch Test Case\",\n",
    "]\n",
    "\n",
    "# Line load running along midspan width (P is kN/m)\n",
    "# Create vertical load points in global coordinate system\n",
    "line_point_1 = og.create_load_vertex(x=L / 2, z=0, p=P)\n",
    "line_point_2 = og.create_load_vertex(x=L / 2, z=w, p=P)\n",
    "test_line_load = og.create_load(\n",
    "    loadtype=\"line\", name=\"Test Load\", point1=line_point_1, point2=line_point_2\n",
    ")\n",
    "\n",
    "# Create load case, add loads, and assign\n",
    "line_case = og.create_load_case(name=static_cases_names[0])\n",
    "line_case.add_load(test_line_load)\n",
    "\n",
    "simple_grid.add_load_case(line_case)"
   ]
  },
  {
   "cell_type": "markdown",
   "id": "b242d45d-b910-4dbb-be48-289486671faf",
   "metadata": {},
   "source": [
    "The second load case is comprised of several point loads, added into a single Compound Load type, so they can be manipulated as a group."
   ]
  },
  {
   "cell_type": "code",
   "execution_count": 11,
   "id": "002b509e-14f6-4ec8-91bf-0fd8b3c84ad7",
   "metadata": {},
   "outputs": [
    {
     "ename": "NameError",
     "evalue": "name 'edge_dist' is not defined",
     "output_type": "error",
     "traceback": [
      "\u001b[1;31m---------------------------------------------------------------------------\u001b[0m",
      "\u001b[1;31mNameError\u001b[0m                                 Traceback (most recent call last)",
      "\u001b[1;32m~\\AppData\\Local\\Temp/ipykernel_34172/2489302363.py\u001b[0m in \u001b[0;36m<module>\u001b[1;34m\u001b[0m\n\u001b[0;32m      3\u001b[0m p_list = [\n\u001b[0;32m      4\u001b[0m     \u001b[1;36m0\u001b[0m\u001b[1;33m,\u001b[0m\u001b[1;33m\u001b[0m\u001b[1;33m\u001b[0m\u001b[0m\n\u001b[1;32m----> 5\u001b[1;33m     \u001b[0medge_dist\u001b[0m\u001b[1;33m,\u001b[0m\u001b[1;33m\u001b[0m\u001b[1;33m\u001b[0m\u001b[0m\n\u001b[0m\u001b[0;32m      6\u001b[0m     \u001b[0medge_dist\u001b[0m \u001b[1;33m+\u001b[0m \u001b[1;36m2\u001b[0m \u001b[1;33m*\u001b[0m \u001b[0mm\u001b[0m\u001b[1;33m,\u001b[0m\u001b[1;33m\u001b[0m\u001b[1;33m\u001b[0m\u001b[0m\n\u001b[0;32m      7\u001b[0m     \u001b[0medge_dist\u001b[0m \u001b[1;33m+\u001b[0m \u001b[1;36m4\u001b[0m \u001b[1;33m*\u001b[0m \u001b[0mm\u001b[0m\u001b[1;33m,\u001b[0m\u001b[1;33m\u001b[0m\u001b[1;33m\u001b[0m\u001b[0m\n",
      "\u001b[1;31mNameError\u001b[0m: name 'edge_dist' is not defined"
     ]
    }
   ],
   "source": [
    "# Compound point loads along midspan width (P is kN)\n",
    "# working in global coordinate system\n",
    "p_list = [\n",
    "    0,\n",
    "    edge_dist,\n",
    "    edge_dist + 2 * m,\n",
    "    edge_dist + 4 * m,\n",
    "    edge_dist + 6 * m,\n",
    "    w - edge_dist,\n",
    "    w,\n",
    "]  # creating list of load position\n",
    "\n",
    "test_points_load = og.create_compound_load(name=\"Points Test Case (Global)\")\n",
    "\n",
    "# create point load in global coordinate\n",
    "for p in p_list:\n",
    "    point = og.create_load(\n",
    "        loadtype=\"point\", name=\"Point\", point1=og.create_load_vertex(x=L / 2, z=p, p=P)\n",
    "    )\n",
    "    # add to compound load\n",
    "    test_points_load.add_load(load_obj=point)\n",
    "\n",
    "# Create load case, add loads, and assign\n",
    "points_case = og.create_load_case(name=static_cases_names[1])\n",
    "points_case.add_load(test_points_load)\n",
    "\n",
    "simple_grid.add_load_case(points_case)"
   ]
  },
  {
   "cell_type": "markdown",
   "id": "f6e2af16-bf74-4e7e-b865-f1af95afe6ed",
   "metadata": {},
   "source": [
    "The third load case is identical to the second load case with Compounded point loads, but this time defining Compound loads in Local coordinates then mapping the local coordinate system of the compound load to the global coordinates of the grillage model."
   ]
  },
  {
   "cell_type": "code",
   "execution_count": 12,
   "id": "945f5812-6fdb-4348-ac87-780c625230de",
   "metadata": {},
   "outputs": [
    {
     "ename": "NameError",
     "evalue": "name 'p_list' is not defined",
     "output_type": "error",
     "traceback": [
      "\u001b[1;31m---------------------------------------------------------------------------\u001b[0m",
      "\u001b[1;31mNameError\u001b[0m                                 Traceback (most recent call last)",
      "\u001b[1;32m~\\AppData\\Local\\Temp/ipykernel_34172/947739750.py\u001b[0m in \u001b[0;36m<module>\u001b[1;34m\u001b[0m\n\u001b[0;32m      4\u001b[0m \u001b[1;33m\u001b[0m\u001b[0m\n\u001b[0;32m      5\u001b[0m \u001b[1;31m# create point load in local coordinate space\u001b[0m\u001b[1;33m\u001b[0m\u001b[1;33m\u001b[0m\u001b[1;33m\u001b[0m\u001b[0m\n\u001b[1;32m----> 6\u001b[1;33m \u001b[1;32mfor\u001b[0m \u001b[0mp\u001b[0m \u001b[1;32min\u001b[0m \u001b[0mp_list\u001b[0m\u001b[1;33m:\u001b[0m\u001b[1;33m\u001b[0m\u001b[1;33m\u001b[0m\u001b[0m\n\u001b[0m\u001b[0;32m      7\u001b[0m     point = og.create_load(\n\u001b[0;32m      8\u001b[0m         \u001b[0mloadtype\u001b[0m\u001b[1;33m=\u001b[0m\u001b[1;34m\"point\"\u001b[0m\u001b[1;33m,\u001b[0m \u001b[0mname\u001b[0m\u001b[1;33m=\u001b[0m\u001b[1;34m\"Point\"\u001b[0m\u001b[1;33m,\u001b[0m \u001b[0mpoint1\u001b[0m\u001b[1;33m=\u001b[0m\u001b[0mog\u001b[0m\u001b[1;33m.\u001b[0m\u001b[0mcreate_load_vertex\u001b[0m\u001b[1;33m(\u001b[0m\u001b[0mx\u001b[0m\u001b[1;33m=\u001b[0m\u001b[1;36m0\u001b[0m\u001b[1;33m,\u001b[0m \u001b[0mz\u001b[0m\u001b[1;33m=\u001b[0m\u001b[0mp\u001b[0m\u001b[1;33m,\u001b[0m \u001b[0mp\u001b[0m\u001b[1;33m=\u001b[0m\u001b[0mP\u001b[0m\u001b[1;33m)\u001b[0m\u001b[1;33m\u001b[0m\u001b[1;33m\u001b[0m\u001b[0m\n",
      "\u001b[1;31mNameError\u001b[0m: name 'p_list' is not defined"
     ]
    }
   ],
   "source": [
    "# Compound point loads along midspan width\n",
    "# working in user-defined local coordinate (in point load)\n",
    "test_points_load = og.create_compound_load(name=\"Points Test Case (Local in Point)\")\n",
    "\n",
    "# create point load in local coordinate space\n",
    "for p in p_list:\n",
    "    point = og.create_load(\n",
    "        loadtype=\"point\", name=\"Point\", point1=og.create_load_vertex(x=0, z=p, p=P)\n",
    "    )\n",
    "    # add to compound load\n",
    "    test_points_load.add_load(load_obj=point)\n",
    "\n",
    "# shift from local to global\n",
    "test_points_load.set_global_coord(og.Point(L / 2, 0, 0))\n",
    "\n",
    "# Create load case, add loads, and assign\n",
    "points_case = og.create_load_case(name=static_cases_names[2])\n",
    "points_case.add_load(test_points_load)\n",
    "\n",
    "simple_grid.add_load_case(points_case)"
   ]
  },
  {
   "cell_type": "markdown",
   "id": "1bf8b7f9-af27-4d2e-bb1e-1da484ecdd25",
   "metadata": {},
   "source": [
    "The fourth load case entails a patch load over the entire deck surface:\n",
    "\n"
   ]
  },
  {
   "cell_type": "code",
   "execution_count": null,
   "id": "a34b5129-7efb-49e8-beb6-12d8dd90649b",
   "metadata": {
    "tags": []
   },
   "outputs": [],
   "source": [
    "# Patch load over entire bridge deck (P is kN/m2)\n",
    "patch_point_1 = og.create_load_vertex(x=0, z=0, p=P)\n",
    "patch_point_2 = og.create_load_vertex(x=L, z=0, p=P)\n",
    "patch_point_3 = og.create_load_vertex(x=L, z=w, p=P)\n",
    "patch_point_4 = og.create_load_vertex(x=0, z=w, p=P)\n",
    "test_patch_load = og.create_load(\n",
    "    loadtype=\"patch\",\n",
    "    name=\"Test Load\",\n",
    "    point1=patch_point_1,\n",
    "    point2=patch_point_2,\n",
    "    point3=patch_point_3,\n",
    "    point4=patch_point_4,\n",
    ")\n",
    "\n",
    "# Create load case, add loads, and assign\n",
    "patch_case = og.create_load_case(name=static_cases_names[3])\n",
    "patch_case.add_load(test_patch_load)\n",
    "simple_grid.add_load_case(patch_case)"
   ]
  },
  {
   "cell_type": "markdown",
   "id": "ae4eaca4-e036-4f16-9d3f-187777692bee",
   "metadata": {},
   "source": [
    "## Adding a moving load analysis\n",
    "For bridge loading, it is imperative to model loads that move, and to consider the static analysis of the bridge deck under each position of the moving load. Here’s how we create and add a moving load (e.g. a truck) to the 28 m bridge model."
   ]
  },
  {
   "cell_type": "code",
   "execution_count": 13,
   "id": "d2f2f1b2-bb19-4091-9fde-a5ea31090e2e",
   "metadata": {},
   "outputs": [
    {
     "ename": "TypeError",
     "evalue": "load type not specified. hint: specify kwarg type= for create_load()",
     "output_type": "error",
     "traceback": [
      "\u001b[1;31m---------------------------------------------------------------------------\u001b[0m",
      "\u001b[1;31mTypeError\u001b[0m                                 Traceback (most recent call last)",
      "\u001b[1;32m~\\AppData\\Local\\Temp/ipykernel_34172/951367502.py\u001b[0m in \u001b[0;36m<module>\u001b[1;34m\u001b[0m\n\u001b[0;32m      6\u001b[0m \u001b[0mtwo_axle_truck\u001b[0m \u001b[1;33m=\u001b[0m \u001b[0mog\u001b[0m\u001b[1;33m.\u001b[0m\u001b[0mcreate_compound_load\u001b[0m\u001b[1;33m(\u001b[0m\u001b[0mname\u001b[0m\u001b[1;33m=\u001b[0m\u001b[1;34m\"Two Axle Truck\"\u001b[0m\u001b[1;33m)\u001b[0m\u001b[1;33m\u001b[0m\u001b[1;33m\u001b[0m\u001b[0m\n\u001b[0;32m      7\u001b[0m \u001b[1;31m# note here we show that we can directly interact and create load vertex using LoadPoint namedtuple instead of create_load_vertex()\u001b[0m\u001b[1;33m\u001b[0m\u001b[1;33m\u001b[0m\u001b[1;33m\u001b[0m\u001b[0m\n\u001b[1;32m----> 8\u001b[1;33m point1 = og.create_load(\n\u001b[0m\u001b[0;32m      9\u001b[0m     \u001b[0mloadtype\u001b[0m\u001b[1;33m=\u001b[0m\u001b[1;34m\"point\"\u001b[0m\u001b[1;33m,\u001b[0m \u001b[0mname\u001b[0m\u001b[1;33m=\u001b[0m\u001b[1;34m\"Point\"\u001b[0m\u001b[1;33m,\u001b[0m \u001b[0mpoint1\u001b[0m\u001b[1;33m=\u001b[0m\u001b[0mog\u001b[0m\u001b[1;33m.\u001b[0m\u001b[0mLoadPoint\u001b[0m\u001b[1;33m(\u001b[0m\u001b[0mx\u001b[0m\u001b[1;33m=\u001b[0m\u001b[1;36m0\u001b[0m\u001b[1;33m,\u001b[0m \u001b[0my\u001b[0m\u001b[1;33m=\u001b[0m\u001b[1;36m0\u001b[0m\u001b[1;33m,\u001b[0m \u001b[0mz\u001b[0m\u001b[1;33m=\u001b[0m\u001b[1;36m0\u001b[0m\u001b[1;33m,\u001b[0m \u001b[0mp\u001b[0m\u001b[1;33m=\u001b[0m\u001b[0mP\u001b[0m\u001b[1;33m)\u001b[0m\u001b[1;33m\u001b[0m\u001b[1;33m\u001b[0m\u001b[0m\n\u001b[0;32m     10\u001b[0m )\n",
      "\u001b[1;32mc:\\users\\nicni\\pycharmprojects\\ospg\\lib\\site-packages\\ospgrillage\\load.py\u001b[0m in \u001b[0;36mcreate_load\u001b[1;34m(**kwargs)\u001b[0m\n\u001b[0;32m    128\u001b[0m         \u001b[1;32mreturn\u001b[0m \u001b[0mNodalLoad\u001b[0m\u001b[1;33m(\u001b[0m\u001b[0mname\u001b[0m\u001b[1;33m=\u001b[0m\u001b[0mname\u001b[0m\u001b[1;33m,\u001b[0m \u001b[0mnode_tag\u001b[0m\u001b[1;33m=\u001b[0m\u001b[0mtag\u001b[0m\u001b[1;33m,\u001b[0m \u001b[0mnode_force\u001b[0m\u001b[1;33m=\u001b[0m\u001b[0mforce\u001b[0m\u001b[1;33m)\u001b[0m\u001b[1;33m\u001b[0m\u001b[1;33m\u001b[0m\u001b[0m\n\u001b[0;32m    129\u001b[0m     \u001b[1;32melse\u001b[0m\u001b[1;33m:\u001b[0m\u001b[1;33m\u001b[0m\u001b[1;33m\u001b[0m\u001b[0m\n\u001b[1;32m--> 130\u001b[1;33m         raise TypeError(\n\u001b[0m\u001b[0;32m    131\u001b[0m             \u001b[1;34m\"load type not specified. hint: specify kwarg type= for create_load()\"\u001b[0m\u001b[1;33m\u001b[0m\u001b[1;33m\u001b[0m\u001b[0m\n\u001b[0;32m    132\u001b[0m         )\n",
      "\u001b[1;31mTypeError\u001b[0m: load type not specified. hint: specify kwarg type= for create_load()"
     ]
    }
   ],
   "source": [
    "# 2 axle truck (equal loads, 2x2 spacing centre line running)\n",
    "axl_w = 2 * m  # axle width\n",
    "axl_s = 2 * m  # axle spacing\n",
    "veh_l = axl_s  # vehicle length\n",
    "# create truck in local coordinate system\n",
    "two_axle_truck = og.create_compound_load(name=\"Two Axle Truck\")\n",
    "# note here we show that we can directly interact and create load vertex using LoadPoint namedtuple instead of create_load_vertex()\n",
    "point1 = og.create_load(\n",
    "    loadtype=\"point\", name=\"Point\", point1=og.LoadPoint(x=0, y=0, z=0, p=P)\n",
    ")\n",
    "point2 = og.create_load(\n",
    "    loadtype=\"point\", name=\"Point\", point1=og.LoadPoint(x=0, y=0, z=axl_w, p=P)\n",
    ")\n",
    "point3 = og.create_load(\n",
    "    loadtype=\"point\", name=\"Point\", point1=og.LoadPoint(x=axl_s, y=0, z=axl_w, p=P)\n",
    ")\n",
    "point4 = og.create_load(\n",
    "    loadtype=\"point\", name=\"Point\", point1=og.LoadPoint(x=axl_s, y=0, z=0, p=P)\n",
    ")\n",
    "\n",
    "two_axle_truck.add_load(load_obj=point1)\n",
    "two_axle_truck.add_load(load_obj=point2)\n",
    "two_axle_truck.add_load(load_obj=point3)\n",
    "two_axle_truck.add_load(load_obj=point4)\n",
    "\n",
    "# create path object in global coordinate system - centre line running of entire span\n",
    "# when local coord: the path describes where the moving load *origin* is to start and end\n",
    "single_path = og.create_moving_path(\n",
    "    start_point=og.Point(0 - axl_w, 0, w / 2 - axl_w / 2),\n",
    "    end_point=og.Point(L, 0, w / 2 - axl_w / 2),\n",
    "    increments=int(np.round(L) + veh_l + 1),\n",
    ")\n",
    "\n",
    "# create moving load (and case)\n",
    "moving_truck = og.create_moving_load(name=\"Moving Two Axle Truck\")\n",
    "\n",
    "# Set path to all loads defined within moving_truck\n",
    "moving_truck.set_path(single_path)\n",
    "# note: it is possible to set different paths for different compound loads in one moving load object\n",
    "moving_truck.add_load(two_axle_truck)\n",
    "\n",
    "# Assign\n",
    "simple_grid.add_load_case(moving_truck)"
   ]
  },
  {
   "cell_type": "markdown",
   "id": "f4f50288-41ce-4e4c-9ba0-d38918448828",
   "metadata": {},
   "source": [
    "## Analysis\n",
    "Next, analyze all load cases added to the model:"
   ]
  },
  {
   "cell_type": "code",
   "execution_count": 14,
   "id": "be35ad65-9800-46d5-bb9f-29e7a6493911",
   "metadata": {},
   "outputs": [
    {
     "ename": "NameError",
     "evalue": "name 'simple_grid' is not defined",
     "output_type": "error",
     "traceback": [
      "\u001b[1;31m---------------------------------------------------------------------------\u001b[0m",
      "\u001b[1;31mNameError\u001b[0m                                 Traceback (most recent call last)",
      "\u001b[1;32m~\\AppData\\Local\\Temp/ipykernel_34172/3211291595.py\u001b[0m in \u001b[0;36m<module>\u001b[1;34m\u001b[0m\n\u001b[0;32m      1\u001b[0m \u001b[1;31m# Run analysis\u001b[0m\u001b[1;33m\u001b[0m\u001b[1;33m\u001b[0m\u001b[1;33m\u001b[0m\u001b[0m\n\u001b[1;32m----> 2\u001b[1;33m \u001b[0msimple_grid\u001b[0m\u001b[1;33m.\u001b[0m\u001b[0manalyze\u001b[0m\u001b[1;33m(\u001b[0m\u001b[1;33m)\u001b[0m\u001b[1;33m\u001b[0m\u001b[1;33m\u001b[0m\u001b[0m\n\u001b[0m",
      "\u001b[1;31mNameError\u001b[0m: name 'simple_grid' is not defined"
     ]
    }
   ],
   "source": [
    "# Run analysis\n",
    "simple_grid.analyze()"
   ]
  },
  {
   "cell_type": "markdown",
   "id": "aec0cdee-8984-4f31-8d28-a1fb1a77875e",
   "metadata": {},
   "source": [
    "## Getting load case results\n",
    "Finally, get the xarray DataSet of the results:"
   ]
  },
  {
   "cell_type": "code",
   "execution_count": 15,
   "id": "435c4197-aff6-4914-8b93-364e525bd368",
   "metadata": {},
   "outputs": [
    {
     "ename": "NameError",
     "evalue": "name 'simple_grid' is not defined",
     "output_type": "error",
     "traceback": [
      "\u001b[1;31m---------------------------------------------------------------------------\u001b[0m",
      "\u001b[1;31mNameError\u001b[0m                                 Traceback (most recent call last)",
      "\u001b[1;32m~\\AppData\\Local\\Temp/ipykernel_34172/2285877924.py\u001b[0m in \u001b[0;36m<module>\u001b[1;34m\u001b[0m\n\u001b[1;32m----> 1\u001b[1;33m \u001b[0mresults\u001b[0m \u001b[1;33m=\u001b[0m \u001b[0msimple_grid\u001b[0m\u001b[1;33m.\u001b[0m\u001b[0mget_results\u001b[0m\u001b[1;33m(\u001b[0m\u001b[1;33m)\u001b[0m \u001b[1;31m# gets basic results\u001b[0m\u001b[1;33m\u001b[0m\u001b[1;33m\u001b[0m\u001b[0m\n\u001b[0m",
      "\u001b[1;31mNameError\u001b[0m: name 'simple_grid' is not defined"
     ]
    }
   ],
   "source": [
    "results = simple_grid.get_results() # gets basic results\n"
   ]
  },
  {
   "cell_type": "markdown",
   "id": "c153d3e2-40e0-4d50-a4b3-e4988f7e919c",
   "metadata": {},
   "source": [
    "\n",
    "For information on the returned object from :func:`~ospgrillage.osp_grillage.OspGrillage.get_results`,see :ref:`PostProcessing`."
   ]
  },
  {
   "cell_type": "markdown",
   "id": "4b1c5d13-38bc-4f09-aad2-678f4ff74526",
   "metadata": {},
   "source": [
    "## Getting load combination results\n",
    "With the results of the basic load cases now known, we can calculate factored combinations of these load cases that are of interest:"
   ]
  },
  {
   "cell_type": "code",
   "execution_count": 16,
   "id": "d58ebfe4-036d-4dc7-8977-5a83fba17e18",
   "metadata": {},
   "outputs": [
    {
     "ename": "NameError",
     "evalue": "name 'simple_grid' is not defined",
     "output_type": "error",
     "traceback": [
      "\u001b[1;31m---------------------------------------------------------------------------\u001b[0m",
      "\u001b[1;31mNameError\u001b[0m                                 Traceback (most recent call last)",
      "\u001b[1;32m~\\AppData\\Local\\Temp/ipykernel_34172/1859040655.py\u001b[0m in \u001b[0;36m<module>\u001b[1;34m\u001b[0m\n\u001b[0;32m      3\u001b[0m \u001b[1;31m# combination with line load case and patch load case\u001b[0m\u001b[1;33m\u001b[0m\u001b[1;33m\u001b[0m\u001b[1;33m\u001b[0m\u001b[0m\n\u001b[0;32m      4\u001b[0m \u001b[0mload_combinations\u001b[0m \u001b[1;33m=\u001b[0m \u001b[1;33m{\u001b[0m\u001b[0mstatic_cases_names\u001b[0m\u001b[1;33m[\u001b[0m\u001b[1;36m0\u001b[0m\u001b[1;33m]\u001b[0m\u001b[1;33m:\u001b[0m\u001b[0ml_factor\u001b[0m\u001b[1;33m,\u001b[0m\u001b[0mstatic_cases_names\u001b[0m\u001b[1;33m[\u001b[0m\u001b[1;33m-\u001b[0m\u001b[1;36m1\u001b[0m\u001b[1;33m]\u001b[0m\u001b[1;33m:\u001b[0m\u001b[0mp_factor\u001b[0m\u001b[1;33m}\u001b[0m\u001b[1;33m\u001b[0m\u001b[1;33m\u001b[0m\u001b[0m\n\u001b[1;32m----> 5\u001b[1;33m \u001b[0mcombination_results\u001b[0m \u001b[1;33m=\u001b[0m \u001b[0msimple_grid\u001b[0m\u001b[1;33m.\u001b[0m\u001b[0mget_results\u001b[0m\u001b[1;33m(\u001b[0m\u001b[0mcombinations\u001b[0m\u001b[1;33m=\u001b[0m\u001b[0mload_combinations\u001b[0m\u001b[1;33m)\u001b[0m\u001b[1;33m\u001b[0m\u001b[1;33m\u001b[0m\u001b[0m\n\u001b[0m",
      "\u001b[1;31mNameError\u001b[0m: name 'simple_grid' is not defined"
     ]
    }
   ],
   "source": [
    "l_factor = 2.3\n",
    "p_factor = 0.5\n",
    "# combination with line load case and patch load case\n",
    "load_combinations = {static_cases_names[0]:l_factor,static_cases_names[-1]:p_factor}\n",
    "combination_results = simple_grid.get_results(combinations=load_combinations)"
   ]
  },
  {
   "cell_type": "markdown",
   "id": "353d8f52-1626-4d79-8a57-3b0740f4219b",
   "metadata": {},
   "source": [
    "## Data processing\n",
    "Having the results be in xarray DataSet, we can do many things with it such as slicing and query its data.\n",
    "\n",
    "The following example shows how to extract bending moments at midspan - the critical location for the defined load cases.\n",
    "\n",
    "First for static load cases, we extract bending moments about the global -axis for each i node of grillage member (since i node correspond to the nodes in the mid span)."
   ]
  },
  {
   "cell_type": "code",
   "execution_count": 17,
   "id": "297e410a-1ca3-4bb8-b3f3-7b992f58f373",
   "metadata": {},
   "outputs": [
    {
     "ename": "NameError",
     "evalue": "name 'results' is not defined",
     "output_type": "error",
     "traceback": [
      "\u001b[1;31m---------------------------------------------------------------------------\u001b[0m",
      "\u001b[1;31mNameError\u001b[0m                                 Traceback (most recent call last)",
      "\u001b[1;32m~\\AppData\\Local\\Temp/ipykernel_34172/3589782720.py\u001b[0m in \u001b[0;36m<module>\u001b[1;34m\u001b[0m\n\u001b[0;32m      2\u001b[0m \u001b[0mele_set\u001b[0m \u001b[1;33m=\u001b[0m \u001b[0mlist\u001b[0m\u001b[1;33m(\u001b[0m\u001b[0mrange\u001b[0m\u001b[1;33m(\u001b[0m\u001b[1;36m84\u001b[0m\u001b[1;33m,\u001b[0m \u001b[1;36m90\u001b[0m \u001b[1;33m+\u001b[0m \u001b[1;36m1\u001b[0m\u001b[1;33m)\u001b[0m\u001b[1;33m)\u001b[0m\u001b[1;33m\u001b[0m\u001b[1;33m\u001b[0m\u001b[0m\n\u001b[0;32m      3\u001b[0m \u001b[1;31m# query\u001b[0m\u001b[1;33m\u001b[0m\u001b[1;33m\u001b[0m\u001b[1;33m\u001b[0m\u001b[0m\n\u001b[1;32m----> 4\u001b[1;33m \u001b[0mextracted_bending\u001b[0m \u001b[1;33m=\u001b[0m \u001b[0mresults\u001b[0m\u001b[1;33m.\u001b[0m\u001b[0mforces\u001b[0m\u001b[1;33m.\u001b[0m\u001b[0msel\u001b[0m\u001b[1;33m(\u001b[0m\u001b[0mLoadcase\u001b[0m\u001b[1;33m=\u001b[0m\u001b[0mstatic_cases_names\u001b[0m\u001b[1;33m,\u001b[0m \u001b[0mElement\u001b[0m\u001b[1;33m=\u001b[0m\u001b[0mele_set\u001b[0m\u001b[1;33m,\u001b[0m \u001b[0mComponent\u001b[0m\u001b[1;33m=\u001b[0m\u001b[1;34m\"Mz_i\"\u001b[0m\u001b[1;33m)\u001b[0m\u001b[1;33m\u001b[0m\u001b[1;33m\u001b[0m\u001b[0m\n\u001b[0m",
      "\u001b[1;31mNameError\u001b[0m: name 'results' is not defined"
     ]
    }
   ],
   "source": [
    "# get list of longitudinal element tags along/near mid_span i.e. 84 to 90 in Figure 1\n",
    "ele_set = list(range(84, 90 + 1))\n",
    "# query\n",
    "extracted_bending = results.forces.sel(Loadcase=static_cases_names, Element=ele_set, Component=\"Mz_i\")"
   ]
  },
  {
   "cell_type": "markdown",
   "id": "f6b7c8dc-ed98-4d01-9e2a-cb3bf870dacc",
   "metadata": {},
   "source": [
    "The extracted_bending variable holds the load case for ‘Line Test Case’, ‘Point Test Case(Global)’, ‘Points Test Case (Local in Point)’, ‘Points Test Case (Local in Compound)’, ‘Patch Test Case’.\n",
    "\n",
    "Should we sum the nodal forces from members on one side, we expect it to approximately equal PL/4:"
   ]
  },
  {
   "cell_type": "code",
   "execution_count": 18,
   "id": "85b10a98-be55-4296-a37b-64c850c1aba8",
   "metadata": {},
   "outputs": [
    {
     "ename": "NameError",
     "evalue": "name 'results' is not defined",
     "output_type": "error",
     "traceback": [
      "\u001b[1;31m---------------------------------------------------------------------------\u001b[0m",
      "\u001b[1;31mNameError\u001b[0m                                 Traceback (most recent call last)",
      "\u001b[1;32m~\\AppData\\Local\\Temp/ipykernel_34172/2002292029.py\u001b[0m in \u001b[0;36m<module>\u001b[1;34m\u001b[0m\n\u001b[0;32m      1\u001b[0m np.sum(\n\u001b[0;32m      2\u001b[0m np.array(\n\u001b[1;32m----> 3\u001b[1;33m     results.forces.sel(\n\u001b[0m\u001b[0;32m      4\u001b[0m         \u001b[0mLoadcase\u001b[0m\u001b[1;33m=\u001b[0m\u001b[0mstatic_cases_names\u001b[0m\u001b[1;33m,\u001b[0m \u001b[0mElement\u001b[0m\u001b[1;33m=\u001b[0m\u001b[0mele_set\u001b[0m\u001b[1;33m,\u001b[0m \u001b[0mComponent\u001b[0m\u001b[1;33m=\u001b[0m\u001b[1;34m\"Mz_i\"\u001b[0m\u001b[1;33m\u001b[0m\u001b[1;33m\u001b[0m\u001b[0m\n\u001b[0;32m      5\u001b[0m     )\n",
      "\u001b[1;31mNameError\u001b[0m: name 'results' is not defined"
     ]
    }
   ],
   "source": [
    "np.sum(\n",
    "np.array(\n",
    "    results.forces.sel(\n",
    "        Loadcase=static_cases_names, Element=ele_set, Component=\"Mz_i\"\n",
    "    )\n",
    "),\n",
    "axis=1,\n",
    ")"
   ]
  },
  {
   "cell_type": "markdown",
   "id": "44e9f5c2-536c-4da7-bf95-dc2b81ac5037",
   "metadata": {},
   "source": [
    "### Process load combinations results\n",
    "Here we sum the nodal forces from the mid span - i node"
   ]
  },
  {
   "cell_type": "code",
   "execution_count": 19,
   "id": "d0e23285-c448-462b-afb8-16a290d9c398",
   "metadata": {},
   "outputs": [
    {
     "ename": "NameError",
     "evalue": "name 'combination_results' is not defined",
     "output_type": "error",
     "traceback": [
      "\u001b[1;31m---------------------------------------------------------------------------\u001b[0m",
      "\u001b[1;31mNameError\u001b[0m                                 Traceback (most recent call last)",
      "\u001b[1;32m~\\AppData\\Local\\Temp/ipykernel_34172/1513642705.py\u001b[0m in \u001b[0;36m<module>\u001b[1;34m\u001b[0m\n\u001b[0;32m      1\u001b[0m sum_node_force = np.sum(\n\u001b[1;32m----> 2\u001b[1;33m     \u001b[0mnp\u001b[0m\u001b[1;33m.\u001b[0m\u001b[0marray\u001b[0m\u001b[1;33m(\u001b[0m\u001b[0mcombination_results\u001b[0m\u001b[1;33m.\u001b[0m\u001b[0mforces\u001b[0m\u001b[1;33m.\u001b[0m\u001b[0msel\u001b[0m\u001b[1;33m(\u001b[0m\u001b[0mElement\u001b[0m\u001b[1;33m=\u001b[0m\u001b[0mele_set\u001b[0m\u001b[1;33m,\u001b[0m \u001b[0mComponent\u001b[0m\u001b[1;33m=\u001b[0m\u001b[1;34m\"Mz_i\"\u001b[0m\u001b[1;33m)\u001b[0m\u001b[1;33m)\u001b[0m\u001b[1;33m\u001b[0m\u001b[1;33m\u001b[0m\u001b[0m\n\u001b[0m\u001b[0;32m      3\u001b[0m )\n",
      "\u001b[1;31mNameError\u001b[0m: name 'combination_results' is not defined"
     ]
    }
   ],
   "source": [
    "sum_node_force = np.sum(\n",
    "    np.array(combination_results.forces.sel(Element=ele_set, Component=\"Mz_i\"))\n",
    ")"
   ]
  },
  {
   "cell_type": "markdown",
   "id": "e8b6c2da-4f1a-450c-89a8-46d0797a46cd",
   "metadata": {},
   "source": [
    "### Extract and process moving load results\n",
    "Here we are accessing and querying data of the moving load case."
   ]
  },
  {
   "cell_type": "code",
   "execution_count": 20,
   "id": "c025648c-9e52-4da4-88dd-21e51b8986c6",
   "metadata": {},
   "outputs": [
    {
     "ename": "NameError",
     "evalue": "name 'simple_grid' is not defined",
     "output_type": "error",
     "traceback": [
      "\u001b[1;31m---------------------------------------------------------------------------\u001b[0m",
      "\u001b[1;31mNameError\u001b[0m                                 Traceback (most recent call last)",
      "\u001b[1;32m~\\AppData\\Local\\Temp/ipykernel_34172/2147741941.py\u001b[0m in \u001b[0;36m<module>\u001b[1;34m\u001b[0m\n\u001b[1;32m----> 1\u001b[1;33m \u001b[0mmove_results\u001b[0m \u001b[1;33m=\u001b[0m \u001b[0msimple_grid\u001b[0m\u001b[1;33m.\u001b[0m\u001b[0mget_results\u001b[0m\u001b[1;33m(\u001b[0m\u001b[0mload_case\u001b[0m\u001b[1;33m=\u001b[0m\u001b[1;34m\"Moving Two Axle Truck\"\u001b[0m\u001b[1;33m)\u001b[0m\u001b[1;33m\u001b[0m\u001b[1;33m\u001b[0m\u001b[0m\n\u001b[0m",
      "\u001b[1;31mNameError\u001b[0m: name 'simple_grid' is not defined"
     ]
    }
   ],
   "source": [
    "move_results = simple_grid.get_results(load_case=\"Moving Two Axle Truck\")"
   ]
  },
  {
   "cell_type": "markdown",
   "id": "3a38e8b3-9108-4505-9ae4-d4e7b66ab6d0",
   "metadata": {},
   "source": [
    "One can query results at specific position of the moving load by looking up the index of load case.\n",
    "\n",
    "In the following example we query the bending moment about -axis component, with the load case corresponding to where the load groups are at/near midspan L = 16.75 m, and the longitudinal elements along/near mid-span, i.e. element 84 to 90 in Figure 1:"
   ]
  },
  {
   "cell_type": "code",
   "execution_count": 21,
   "id": "3e173d18-d7aa-4111-9555-aab17a22e44b",
   "metadata": {},
   "outputs": [
    {
     "ename": "NameError",
     "evalue": "name 'L' is not defined",
     "output_type": "error",
     "traceback": [
      "\u001b[1;31m---------------------------------------------------------------------------\u001b[0m",
      "\u001b[1;31mNameError\u001b[0m                                 Traceback (most recent call last)",
      "\u001b[1;32m~\\AppData\\Local\\Temp/ipykernel_34172/4274562038.py\u001b[0m in \u001b[0;36m<module>\u001b[1;34m\u001b[0m\n\u001b[0;32m      1\u001b[0m \u001b[1;31m# selecting load case of specific load position\u001b[0m\u001b[1;33m\u001b[0m\u001b[1;33m\u001b[0m\u001b[1;33m\u001b[0m\u001b[0m\n\u001b[0;32m      2\u001b[0m integer = int(\n\u001b[1;32m----> 3\u001b[1;33m     \u001b[0mL\u001b[0m \u001b[1;33m/\u001b[0m \u001b[1;36m2\u001b[0m \u001b[1;33m-\u001b[0m \u001b[1;36m1\u001b[0m \u001b[1;33m+\u001b[0m \u001b[1;36m2\u001b[0m\u001b[1;33m\u001b[0m\u001b[1;33m\u001b[0m\u001b[0m\n\u001b[0m\u001b[0;32m      4\u001b[0m )  # here we choose when the load groups are at/near mid span L = 14m i.e. 17\n\u001b[0;32m      5\u001b[0m \u001b[1;33m\u001b[0m\u001b[0m\n",
      "\u001b[1;31mNameError\u001b[0m: name 'L' is not defined"
     ]
    }
   ],
   "source": [
    "# selecting load case of specific load position\n",
    "integer = int(\n",
    "    L / 2 - 1 + 2\n",
    ")  # here we choose when the load groups are at/near mid span L = 14m i.e. 17\n",
    "\n",
    "# query\n",
    "mid_span_bending = move_results.forces.isel(Loadcase=integer).sel(\n",
    "    Element=ele_set, Component=\"Mz_i\"\n",
    ")"
   ]
  },
  {
   "cell_type": "markdown",
   "id": "5e179d7e-43eb-4dc0-8e7b-e36b2e71fbe2",
   "metadata": {},
   "source": [
    "Finally, summing the query of bending moment and comparing with theoretical calculation:\n",
    "\n"
   ]
  },
  {
   "cell_type": "code",
   "execution_count": 22,
   "id": "7529a4db-6356-440c-94a2-3a80335410ef",
   "metadata": {},
   "outputs": [
    {
     "ename": "NameError",
     "evalue": "name 'mid_span_bending' is not defined",
     "output_type": "error",
     "traceback": [
      "\u001b[1;31m---------------------------------------------------------------------------\u001b[0m",
      "\u001b[1;31mNameError\u001b[0m                                 Traceback (most recent call last)",
      "\u001b[1;32m~\\AppData\\Local\\Temp/ipykernel_34172/170957895.py\u001b[0m in \u001b[0;36m<module>\u001b[1;34m\u001b[0m\n\u001b[1;32m----> 1\u001b[1;33m \u001b[0mbending_z\u001b[0m \u001b[1;33m=\u001b[0m \u001b[0mnp\u001b[0m\u001b[1;33m.\u001b[0m\u001b[0msum\u001b[0m\u001b[1;33m(\u001b[0m\u001b[0mnp\u001b[0m\u001b[1;33m.\u001b[0m\u001b[0marray\u001b[0m\u001b[1;33m(\u001b[0m\u001b[0mmid_span_bending\u001b[0m\u001b[1;33m)\u001b[0m\u001b[1;33m)\u001b[0m\u001b[1;33m\u001b[0m\u001b[1;33m\u001b[0m\u001b[0m\n\u001b[0m\u001b[0;32m      2\u001b[0m \u001b[1;33m\u001b[0m\u001b[0m\n\u001b[0;32m      3\u001b[0m \u001b[1;31m# Hand calc:\u001b[0m\u001b[1;33m\u001b[0m\u001b[1;33m\u001b[0m\u001b[1;33m\u001b[0m\u001b[0m\n\u001b[0;32m      4\u001b[0m \u001b[0mbending_z_theoretical\u001b[0m \u001b[1;33m=\u001b[0m \u001b[1;36m2\u001b[0m \u001b[1;33m*\u001b[0m \u001b[0mP\u001b[0m \u001b[1;33m*\u001b[0m \u001b[1;33m(\u001b[0m\u001b[0mL\u001b[0m \u001b[1;33m/\u001b[0m \u001b[1;36m2\u001b[0m \u001b[1;33m-\u001b[0m \u001b[0maxl_s\u001b[0m \u001b[1;33m/\u001b[0m \u001b[1;36m2\u001b[0m\u001b[1;33m)\u001b[0m  \u001b[1;31m# 31500\u001b[0m\u001b[1;33m\u001b[0m\u001b[1;33m\u001b[0m\u001b[0m\n\u001b[0;32m      5\u001b[0m \u001b[1;33m\u001b[0m\u001b[0m\n",
      "\u001b[1;31mNameError\u001b[0m: name 'mid_span_bending' is not defined"
     ]
    }
   ],
   "source": [
    "bending_z = np.sum(np.array(mid_span_bending))\n",
    "\n",
    "# Hand calc:\n",
    "bending_z_theoretical = 2 * P * (L / 2 - axl_s / 2)  # 31500\n",
    "\n",
    "print(\"bending_z ={}\".format(bending_z))\n",
    "print(\"bending_z_theoretical ={}\".format(bending_z_theoretical))"
   ]
  },
  {
   "cell_type": "markdown",
   "id": "38f3a6e9-ae2b-4fe7-a488-8c485b592be8",
   "metadata": {},
   "source": [
    "The following is printed to terminal (units in N m) :\n",
    "\n"
   ]
  },
  {
   "cell_type": "code",
   "execution_count": 24,
   "id": "80f6e805-28c5-4486-9fd5-d7175c405d6e",
   "metadata": {},
   "outputs": [],
   "source": [
    "bending_z = 31499.999999999913\n",
    "bending_z_theoretical = 31500.0"
   ]
  },
  {
   "cell_type": "markdown",
   "id": "1d5d5dc4-3d77-4061-9a0f-77c40360a0a4",
   "metadata": {},
   "source": [
    "and these are a good match."
   ]
  },
  {
   "cell_type": "code",
   "execution_count": null,
   "id": "c4d099f7-c91b-40d5-92fd-110a51df2d89",
   "metadata": {},
   "outputs": [],
   "source": []
  }
 ],
 "metadata": {
  "kernelspec": {
   "display_name": "ospg",
   "language": "python",
   "name": "ospg"
  },
  "language_info": {
   "codemirror_mode": {
    "name": "ipython",
    "version": 3
   },
   "file_extension": ".py",
   "mimetype": "text/x-python",
   "name": "python",
   "nbconvert_exporter": "python",
   "pygments_lexer": "ipython3",
   "version": "3.8.10"
  }
 },
 "nbformat": 4,
 "nbformat_minor": 5
}
